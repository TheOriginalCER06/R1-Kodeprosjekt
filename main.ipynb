{
 "cells": [
  {
   "cell_type": "markdown",
   "metadata": {},
   "source": [
    "Importere alle biblioteker som jeg har tengt å bruke."
   ]
  },
  {
   "cell_type": "code",
   "execution_count": null,
   "metadata": {},
   "outputs": [],
   "source": [
    "import matplotlib.pyplot as plt\n",
    "import numpy as np"
   ]
  },
  {
   "cell_type": "markdown",
   "metadata": {},
   "source": [
    "Initialisere variabler som skal benyttes senere"
   ]
  },
  {
   "cell_type": "code",
   "execution_count": null,
   "metadata": {},
   "outputs": [],
   "source": [
    "tid = []\n",
    "ems = []"
   ]
  },
  {
   "cell_type": "markdown",
   "metadata": {},
   "source": [
    "Lager en funksjon som plotter en plot, slik jeg vil den skal plottes, så sparer jeg tid hver gang jeg skal plotte noe."
   ]
  },
  {
   "cell_type": "code",
   "execution_count": null,
   "metadata": {},
   "outputs": [],
   "source": [
    "def do_plot(x_label, y_label, title):\n",
    "    plt.grid()\n",
    "    plt.xlabel(x_label)\n",
    "    plt.ylabel(y_label)\n",
    "    plt.title(title)\n",
    "    legend = plt.legend(loc='upper right', shadow=True)\n",
    "    plt.show()"
   ]
  },
  {
   "cell_type": "markdown",
   "metadata": {},
   "source": [
    "Les inn data og lagre i variabler"
   ]
  },
  {
   "cell_type": "code",
   "execution_count": null,
   "metadata": {},
   "outputs": [],
   "source": [
    "dtf = open(\"induksjon_egen_23042024.csv\", \"r\")\n",
    "lines = dtf.readlines()\n",
    "dtf.close()"
   ]
  },
  {
   "cell_type": "markdown",
   "metadata": {},
   "source": [
    "Finne antall forsøk, og så finne hvor mange variabler hvert forsøk har. Slik det er mulig å gjøre dette uten å vite nøyaktig hvor mange forsøk det er, eller hvor mange variabler i hvert forsøk."
   ]
  },
  {
   "cell_type": "code",
   "execution_count": null,
   "metadata": {},
   "outputs": [],
   "source": [
    "lables = lines[0].strip().split(\",\")\n",
    "sublables = lines[1].strip().split(\",\")\n",
    "lables = list(dict.fromkeys(lables))\n",
    "valsPerRun = int(len(sublables)/len(lables))\n",
    "voltageIndex = sublables.index(\"Voltage (V)\")\n",
    "\n",
    "#legge til antall lister for antall forsøk\n",
    "for i in range(len(lables)):\n",
    "    ems.append([])"
   ]
  },
  {
   "cell_type": "markdown",
   "metadata": {},
   "source": [
    "Legger så inn hver variabel i den respektive listen til \"ems\" og \"tid\" skal være lik."
   ]
  },
  {
   "cell_type": "code",
   "execution_count": null,
   "metadata": {},
   "outputs": [],
   "source": [
    "for row in lines[2:]:\n",
    "    row = row.strip().split(\",\")\n",
    "    tid.append(float(row[1]))\n",
    "    for i in range(len(lables)):\n",
    "        ems[i].append(float(row[i*valsPerRun + voltageIndex])*1e5) #her har jeg ganget med 10^5 for å få det til noe som er lettere å lese av imens jeg jobber med dette."
   ]
  },
  {
   "cell_type": "markdown",
   "metadata": {},
   "source": [
    "Plot dataen for hver verdi i \"ems\"."
   ]
  },
  {
   "cell_type": "code",
   "execution_count": null,
   "metadata": {},
   "outputs": [],
   "source": [
    "for i in range(len(ems)):\n",
    "    plt.plot(tid, ems[i], label=lables[i])\n",
    "\n",
    "do_plot(\"Tid (s)\", \"Spenning (V)\", \"Spenning over tid\")\n",
    "\n",
    "plt.plot(tid, ems[0], label=lables[0]) #dette bare for testing\n",
    "do_plot(\"Tid (s)\", \"Spenning (V)\", \"Spenning over tid\")"
   ]
  },
  {
   "cell_type": "markdown",
   "metadata": {},
   "source": [
    "Så skal jeg gjennomføre en integral på hver av de 4 forsøkene, og med dette finner jeg totale fluksen (Vs) for grafene:"
   ]
  },
  {
   "cell_type": "code",
   "execution_count": null,
   "metadata": {},
   "outputs": [],
   "source": [
    "voltsekunder = []\n",
    "voltsekund = []\n",
    "for i in range(len(ems)):\n",
    "    voltsekunder.append(0)\n",
    "    voltsekund.append([])\n",
    "    for j in range(len(ems[i])):\n",
    "        voltsekunder[i] += abs(ems[i][j] * (0.001))\n",
    "        voltsekund[i].append((ems[i][j] * (0.001)))\n",
    "    \n",
    "print(\"Voltsekunder: \", voltsekunder)\n",
    "for i in range(len(voltsekund)):\n",
    "    plt.plot(tid, voltsekund[i], label=lables[i])\n",
    "do_plot(\"Tid (s)\", \"Voltsekund (Vs)\", \"Voltsekund over tid\")"
   ]
  },
  {
   "cell_type": "markdown",
   "metadata": {},
   "source": [
    "Her gjør jeg derivasjon av dataene, og dette gir meg endringen av spenning over tid. Med dette kan jeg så finne monotoni egenskapene."
   ]
  },
  {
   "cell_type": "code",
   "execution_count": null,
   "metadata": {},
   "outputs": [],
   "source": [
    "deriverte = []\n",
    "for i in range(len(ems)):\n",
    "    deriverte.append([])\n",
    "    for j in range(len(ems[i])-1):\n",
    "        deriverte[i].append((ems[i][j+1] - ems[i][j])/(tid[j+1]-tid[j]))\n",
    "     \n",
    "for i in range(len(deriverte)):\n",
    "    plt.plot(tid[1:], deriverte[i], label=lables[i])\n",
    "do_plot(\"Tid (s)\", \"Spenning per sekund (V/s)\", \"Spenningsendring over tid\")"
   ]
  },
  {
   "cell_type": "markdown",
   "metadata": {},
   "source": [
    "Markdown\n",
    "# A\n",
    "### A"
   ]
  },
  {
   "cell_type": "code",
   "execution_count": null,
   "metadata": {},
   "outputs": [],
   "source": []
  }
 ],
 "metadata": {
  "kernelspec": {
   "display_name": "Python 3",
   "language": "python",
   "name": "python3"
  },
  "language_info": {
   "codemirror_mode": {
    "name": "ipython",
    "version": 3
   },
   "file_extension": ".py",
   "mimetype": "text/x-python",
   "name": "python",
   "nbconvert_exporter": "python",
   "pygments_lexer": "ipython3",
   "version": "3.10.2"
  }
 },
 "nbformat": 4,
 "nbformat_minor": 2
}
